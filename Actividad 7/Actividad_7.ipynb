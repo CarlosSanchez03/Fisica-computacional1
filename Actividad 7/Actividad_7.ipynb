{
  "nbformat": 4,
  "nbformat_minor": 0,
  "metadata": {
    "colab": {
      "name": "Actividad 7.ipynb",
      "provenance": [],
      "collapsed_sections": []
    },
    "kernelspec": {
      "name": "python3",
      "display_name": "Python 3"
    }
  },
  "cells": [
    {
      "cell_type": "code",
      "metadata": {
        "id": "qlY_3EEo_azP"
      },
      "source": [
        "\r\n",
        "import numpy as np\r\n",
        "import scipy.linalg as la\r\n",
        "from numpy.linalg import matrix_power as mpow\r\n",
        "import matplotlib.pyplot as plt"
      ],
      "execution_count": 53,
      "outputs": []
    },
    {
      "cell_type": "markdown",
      "metadata": {
        "id": "LfH1fj9uzCMa"
      },
      "source": [
        "Ejercicio 1\r\n"
      ]
    },
    {
      "cell_type": "code",
      "metadata": {
        "colab": {
          "base_uri": "https://localhost:8080/"
        },
        "id": "NFe3LknQ_jQz",
        "outputId": "9a7937a3-2f35-4db9-96a8-dbc68529aef4"
      },
      "source": [
        "A = np.array([[1,3],[-1,7]])\r\n",
        "B= np.array ([[5,2],[1,2]]) \r\n",
        "np.eye(2, dtype=int)\r\n",
        "print(A)\r\n",
        "print (B)"
      ],
      "execution_count": 9,
      "outputs": [
        {
          "output_type": "stream",
          "text": [
            "[[ 1  3]\n",
            " [-1  7]]\n",
            "[[5 2]\n",
            " [1 2]]\n"
          ],
          "name": "stdout"
        }
      ]
    },
    {
      "cell_type": "code",
      "metadata": {
        "colab": {
          "base_uri": "https://localhost:8080/"
        },
        "id": "BGT0vce91Gsk",
        "outputId": "7c628d92-ebf1-4a9b-e262-de46a65e814a"
      },
      "source": [
        "I = np.eye(2, dtype=int)\r\n",
        "print(\"Matriz I = \")\r\n",
        "print(I)\r\n"
      ],
      "execution_count": 15,
      "outputs": [
        {
          "output_type": "stream",
          "text": [
            "Matriz I = \n",
            "[[1 0]\n",
            " [0 1]]\n"
          ],
          "name": "stdout"
        }
      ]
    },
    {
      "cell_type": "code",
      "metadata": {
        "colab": {
          "base_uri": "https://localhost:8080/"
        },
        "id": "dnRmr7WiDiVW",
        "outputId": "9cc358f2-ae13-4674-88fe-43be3759fbb2"
      },
      "source": [
        "2*I+3*A+A@B"
      ],
      "execution_count": 18,
      "outputs": [
        {
          "output_type": "execute_result",
          "data": {
            "text/plain": [
              "array([[13, 17],\n",
              "       [-1, 35]])"
            ]
          },
          "metadata": {
            "tags": []
          },
          "execution_count": 18
        }
      ]
    },
    {
      "cell_type": "markdown",
      "metadata": {
        "id": "XrIGCviz0UMo"
      },
      "source": [
        "Ejercicio 2 \r\n"
      ]
    },
    {
      "cell_type": "code",
      "metadata": {
        "colab": {
          "base_uri": "https://localhost:8080/"
        },
        "id": "9KBrT0jc0X96",
        "outputId": "2c411540-241a-4f1f-ac9a-e7c6fc2b2b76"
      },
      "source": [
        "#Defino la matriz \r\n",
        "M = np.array([[1,2],[3,4]])\r\n",
        "print(\"Matriz A = \")\r\n",
        "print(M)"
      ],
      "execution_count": 19,
      "outputs": [
        {
          "output_type": "stream",
          "text": [
            "Matriz A = \n",
            "[[1 2]\n",
            " [3 4]]\n"
          ],
          "name": "stdout"
        }
      ]
    },
    {
      "cell_type": "code",
      "metadata": {
        "colab": {
          "base_uri": "https://localhost:8080/"
        },
        "id": "_0y5xnkf0hHD",
        "outputId": "310a3b1c-3c38-4380-ee44-b0d4fee9082e"
      },
      "source": [
        "#Obtenemos el determinante\r\n",
        "print(M)\r\n",
        "print(la.det(M))"
      ],
      "execution_count": 20,
      "outputs": [
        {
          "output_type": "stream",
          "text": [
            "[[1 2]\n",
            " [3 4]]\n",
            "-2.0\n"
          ],
          "name": "stdout"
        }
      ]
    },
    {
      "cell_type": "code",
      "metadata": {
        "colab": {
          "base_uri": "https://localhost:8080/"
        },
        "id": "uQkVWPwQ0m06",
        "outputId": "9fec7120-adae-4964-dc47-d388a940ec99"
      },
      "source": [
        " R=M@M - 5*M - 2*I\r\n",
        "print(R)\r\n"
      ],
      "execution_count": 23,
      "outputs": [
        {
          "output_type": "stream",
          "text": [
            "[[0 0]\n",
            " [0 0]]\n"
          ],
          "name": "stdout"
        }
      ]
    },
    {
      "cell_type": "markdown",
      "metadata": {
        "id": "Xugq2_4D4zNR"
      },
      "source": [
        "Ejercicio 3"
      ]
    },
    {
      "cell_type": "code",
      "metadata": {
        "id": "yI8l-IcT3_Lb"
      },
      "source": [
        "# Implementación del método de eliminación Gaussiana\r\n",
        "# Definimos 3 funciones \r\n",
        "\r\n",
        "# Intercambio de posición de renglones.\r\n",
        "def switch_rows(A,i,j):\r\n",
        "    \"Intercambiar renglones i y j en la matriz A.\"\r\n",
        "    n = A.shape[0]\r\n",
        "    E = np.eye(n)\r\n",
        "    E[i,i] = 0\r\n",
        "    E[j,j] = 0\r\n",
        "    E[i,j] = 1\r\n",
        "    E[j,i] = 1\r\n",
        "    return E @ A\r\n",
        "\r\n",
        "# Multiplicar un renglón por una constante no nula.\r\n",
        "def scale_row(A,k,i):\r\n",
        "    \"Multiplicar el renglón i por k en la matriz A.\"\r\n",
        "    n = A.shape[0]\r\n",
        "    E = np.eye(n)\r\n",
        "    E[i,i] = k\r\n",
        "    return E @ A\r\n",
        "\r\n",
        "# Sumar un múltiplo de un reglon a otro renglón.\r\n",
        "def add_row(A,k,i,j):\r\n",
        "    \"Sumar k veces el renglón j al renglón i en la matriz A.\"\r\n",
        "    n = A.shape[0]\r\n",
        "    E = np.eye(n)\r\n",
        "    if i == j:\r\n",
        "        E[i,i] = k + 1\r\n",
        "    else:\r\n",
        "        E[i,j] = k\r\n",
        "    return E @ A"
      ],
      "execution_count": 24,
      "outputs": []
    },
    {
      "cell_type": "code",
      "metadata": {
        "colab": {
          "base_uri": "https://localhost:8080/"
        },
        "id": "eY5PdN_v5HcY",
        "outputId": "a09c989b-4ba0-49a6-b90f-82bc0e558235"
      },
      "source": [
        "#Definimos la matriz\r\n",
        "H=np.array([[1,-3,1,1],[3,-4,1,5],[0,2,-1,0]])\r\n",
        "print(H)"
      ],
      "execution_count": 27,
      "outputs": [
        {
          "output_type": "stream",
          "text": [
            "[[ 1 -3  1  1]\n",
            " [ 3 -4  1  5]\n",
            " [ 0  2 -1  0]]\n"
          ],
          "name": "stdout"
        }
      ]
    },
    {
      "cell_type": "code",
      "metadata": {
        "colab": {
          "base_uri": "https://localhost:8080/"
        },
        "id": "QN53yerU5zez",
        "outputId": "1ebcfc28-eba8-498f-f3d2-5fdde2536115"
      },
      "source": [
        "H1 = (scale_row(H,3,0))\r\n",
        "print(scale_row(H,3,0))"
      ],
      "execution_count": 28,
      "outputs": [
        {
          "output_type": "stream",
          "text": [
            "[[ 3. -9.  3.  3.]\n",
            " [ 3. -4.  1.  5.]\n",
            " [ 0.  2. -1.  0.]]\n"
          ],
          "name": "stdout"
        }
      ]
    },
    {
      "cell_type": "code",
      "metadata": {
        "colab": {
          "base_uri": "https://localhost:8080/"
        },
        "id": "sf8gPDhK6PZr",
        "outputId": "4fb8a1f4-744a-4494-8a0a-410cafa6b7fc"
      },
      "source": [
        "H2 = add_row(H1,-1,1,0)\r\n",
        "print(H2)"
      ],
      "execution_count": 32,
      "outputs": [
        {
          "output_type": "stream",
          "text": [
            "[[ 3. -9.  3.  3.]\n",
            " [ 0.  5. -2.  2.]\n",
            " [ 0.  2. -1.  0.]]\n"
          ],
          "name": "stdout"
        }
      ]
    },
    {
      "cell_type": "code",
      "metadata": {
        "colab": {
          "base_uri": "https://localhost:8080/"
        },
        "id": "CtmmZxyD6eLT",
        "outputId": "416ea5d0-900e-43fa-a547-a025afe6c16a"
      },
      "source": [
        "\r\n",
        "H3 = scale_row(H2,2,1)\r\n",
        "H4 = scale_row(H3,5,2)\r\n",
        "print(H4)"
      ],
      "execution_count": 33,
      "outputs": [
        {
          "output_type": "stream",
          "text": [
            "[[ 3. -9.  3.  3.]\n",
            " [ 0. 10. -4.  4.]\n",
            " [ 0. 10. -5.  0.]]\n"
          ],
          "name": "stdout"
        }
      ]
    },
    {
      "cell_type": "code",
      "metadata": {
        "colab": {
          "base_uri": "https://localhost:8080/"
        },
        "id": "cYrH93FH6oKw",
        "outputId": "5c4fa9f8-c9ea-4db6-a4d5-7e9dac38a6db"
      },
      "source": [
        "H5 = add_row(H4,-1,2,1)\r\n",
        "print(H5)"
      ],
      "execution_count": 34,
      "outputs": [
        {
          "output_type": "stream",
          "text": [
            "[[ 3. -9.  3.  3.]\n",
            " [ 0. 10. -4.  4.]\n",
            " [ 0.  0. -1. -4.]]\n"
          ],
          "name": "stdout"
        }
      ]
    },
    {
      "cell_type": "code",
      "metadata": {
        "id": "RTIf9HKI6ttA"
      },
      "source": [
        "a = np.array([1,5,0]).reshape(3,1)"
      ],
      "execution_count": 36,
      "outputs": []
    },
    {
      "cell_type": "code",
      "metadata": {
        "colab": {
          "base_uri": "https://localhost:8080/"
        },
        "id": "GashHUqj662g",
        "outputId": "159b6a5f-5889-4ed4-d1e5-611022d7ea03"
      },
      "source": [
        "x=np.array([[1,-3,1],[3,-4,1],[0,2,-1]])\r\n",
        "\r\n",
        "print(x)"
      ],
      "execution_count": 38,
      "outputs": [
        {
          "output_type": "stream",
          "text": [
            "[[ 1 -3  1]\n",
            " [ 3 -4  1]\n",
            " [ 0  2 -1]]\n"
          ],
          "name": "stdout"
        }
      ]
    },
    {
      "cell_type": "markdown",
      "metadata": {
        "id": "70oe_mDY7PkC"
      },
      "source": [
        "Obtenemos solucion de la matriz x\r\n"
      ]
    },
    {
      "cell_type": "code",
      "metadata": {
        "colab": {
          "base_uri": "https://localhost:8080/"
        },
        "id": "V0yCdN2X7F4a",
        "outputId": "28cfdd66-a7d0-494f-f110-4a3657947976"
      },
      "source": [
        "x1 = la.solve(x, a)\r\n",
        "print(x_sol)"
      ],
      "execution_count": 41,
      "outputs": [
        {
          "output_type": "stream",
          "text": [
            "[[3.]\n",
            " [2.]\n",
            " [4.]]\n"
          ],
          "name": "stdout"
        }
      ]
    },
    {
      "cell_type": "markdown",
      "metadata": {
        "id": "kqqHg_sB7TNU"
      },
      "source": [
        "Ejercicio 4"
      ]
    },
    {
      "cell_type": "code",
      "metadata": {
        "colab": {
          "base_uri": "https://localhost:8080/"
        },
        "id": "J6oRilN-7V-U",
        "outputId": "6405fd2a-b1db-4ece-a11d-5db92f75ecc3"
      },
      "source": [
        "B1 = np.array([[2,0,0],[0,3,4],[0,4,9]])\r\n",
        "print(\"Matriz B1 = \")\r\n",
        "print(B1)"
      ],
      "execution_count": 42,
      "outputs": [
        {
          "output_type": "stream",
          "text": [
            "Matriz B1 = \n",
            "[[2 0 0]\n",
            " [0 3 4]\n",
            " [0 4 9]]\n"
          ],
          "name": "stdout"
        }
      ]
    },
    {
      "cell_type": "code",
      "metadata": {
        "colab": {
          "base_uri": "https://localhost:8080/"
        },
        "id": "rmpsOg8b7vlp",
        "outputId": "05110577-3a3c-4b08-bbba-1db399e68e6a"
      },
      "source": [
        "B2 = np.array([[0,1,0],[0,0,1],[1,0,0]])\r\n",
        "print(\"Matriz B2 = \")\r\n",
        "print(B2)"
      ],
      "execution_count": 43,
      "outputs": [
        {
          "output_type": "stream",
          "text": [
            "Matriz B2 = \n",
            "[[0 1 0]\n",
            " [0 0 1]\n",
            " [1 0 0]]\n"
          ],
          "name": "stdout"
        }
      ]
    },
    {
      "cell_type": "code",
      "metadata": {
        "colab": {
          "base_uri": "https://localhost:8080/"
        },
        "id": "VZD9X0tJ7zq_",
        "outputId": "d33661f2-ba89-4e3e-9377-fc713fe1e02d"
      },
      "source": [
        "B3 = np.array([[2,0,0,0],[1,2,0,0],[0,1,3,0],[0,0,1,3]])\r\n",
        "print(\"Matriz B3 = \")\r\n",
        "print(B3)"
      ],
      "execution_count": 44,
      "outputs": [
        {
          "output_type": "stream",
          "text": [
            "Matriz B3 = \n",
            "[[2 0 0 0]\n",
            " [1 2 0 0]\n",
            " [0 1 3 0]\n",
            " [0 0 1 3]]\n"
          ],
          "name": "stdout"
        }
      ]
    },
    {
      "cell_type": "code",
      "metadata": {
        "colab": {
          "base_uri": "https://localhost:8080/"
        },
        "id": "cx-VE2a373Kp",
        "outputId": "12d03b84-74a1-4d51-ea5f-68df48874cea"
      },
      "source": [
        "eigvals, eigvecs = la.eig(B1)\r\n",
        "print('Eigenvalores:', eigvals)\r\n",
        "print('Eigenvectores:', eigvecs)"
      ],
      "execution_count": 45,
      "outputs": [
        {
          "output_type": "stream",
          "text": [
            "Eigenvalores: [11.+0.j  1.+0.j  2.+0.j]\n",
            "Eigenvectores: [[ 0.          0.          1.        ]\n",
            " [ 0.4472136   0.89442719  0.        ]\n",
            " [ 0.89442719 -0.4472136   0.        ]]\n"
          ],
          "name": "stdout"
        }
      ]
    },
    {
      "cell_type": "code",
      "metadata": {
        "colab": {
          "base_uri": "https://localhost:8080/"
        },
        "id": "Gm3gv0an7-OQ",
        "outputId": "55b2a042-4de9-4cc2-8635-a36f496ac85e"
      },
      "source": [
        "eigvals, eigvecs = la.eig(B2)\r\n",
        "print('Eigenvalores:', eigvals)\r\n",
        "print('Eigenvectores:', eigvecs)"
      ],
      "execution_count": 46,
      "outputs": [
        {
          "output_type": "stream",
          "text": [
            "Eigenvalores: [-0.5+0.8660254j -0.5-0.8660254j  1. +0.j       ]\n",
            "Eigenvectores: [[ 0.57735027+0.j   0.57735027-0.j  -0.57735027+0.j ]\n",
            " [-0.28867513+0.5j -0.28867513-0.5j -0.57735027+0.j ]\n",
            " [-0.28867513-0.5j -0.28867513+0.5j -0.57735027+0.j ]]\n"
          ],
          "name": "stdout"
        }
      ]
    },
    {
      "cell_type": "code",
      "metadata": {
        "colab": {
          "base_uri": "https://localhost:8080/"
        },
        "id": "RktBmaB48Azo",
        "outputId": "ecbe4602-afbe-4544-b659-d1d07d80cbff"
      },
      "source": [
        "eigvals, eigvecs = la.eig(B3)\r\n",
        "print('Eigenvalores:', eigvals)\r\n",
        "print('Eigenvectores:', eigvecs)"
      ],
      "execution_count": 47,
      "outputs": [
        {
          "output_type": "stream",
          "text": [
            "Eigenvalores: [3.+0.j 3.+0.j 2.+0.j 2.+0.j]\n",
            "Eigenvectores: [[ 0.00000000e+00  0.00000000e+00  0.00000000e+00  2.56395025e-16]\n",
            " [ 0.00000000e+00  0.00000000e+00  5.77350269e-01 -5.77350269e-01]\n",
            " [ 0.00000000e+00  6.66133815e-16 -5.77350269e-01  5.77350269e-01]\n",
            " [ 1.00000000e+00 -1.00000000e+00  5.77350269e-01 -5.77350269e-01]]\n"
          ],
          "name": "stdout"
        }
      ]
    },
    {
      "cell_type": "markdown",
      "metadata": {
        "id": "ozRh6UGE8kxq"
      },
      "source": [
        "EJERCICIO 5"
      ]
    },
    {
      "cell_type": "code",
      "metadata": {
        "colab": {
          "base_uri": "https://localhost:8080/",
          "height": 295
        },
        "id": "xeEizP8T8DuQ",
        "outputId": "2ca8e5da-8644-457c-e3ad-180b89d38592"
      },
      "source": [
        "# Grafico los puntos en rojo con puntos ('r.')\r\n",
        "N = 8\r\n",
        "x = np.arange(0,4)\r\n",
        "Y = np.arange(-0.5,1)\r\n",
        "plt.plot(0,0,'r.')\r\n",
        "plt.plot(0.5,0.47942,'r.')\r\n",
        "plt.plot(1,0.84147,'r.')\r\n",
        "plt.plot(1.5,0.99749,'r.')\r\n",
        "plt.plot(2,0.90930,'r.')\r\n",
        "plt.plot(2.5,0.59847,'r.')\r\n",
        "plt.plot(3,0.14112,'r.')\r\n",
        "plt.plot(3.5,-0.35078,'r.')\r\n",
        "plt.grid()\r\n",
        "plt.title('Puntos que deseamos interpolar')\r\n",
        "plt.xlabel('x')\r\n",
        "plt.ylabel('y')\r\n",
        "plt.show()"
      ],
      "execution_count": 54,
      "outputs": [
        {
          "output_type": "display_data",
          "data": {
            "image/png": "[encoded data removed]",
            "text/plain": [
              "<Figure size 432x288 with 1 Axes>"
            ]
          },
          "metadata": {
            "tags": [],
            "needs_background": "light"
          }
        }
      ]
    },
    {
      "cell_type": "code",
      "metadata": {
        "colab": {
          "base_uri": "https://localhost:8080/"
        },
        "id": "f9gBEA3f9c5k",
        "outputId": "8aa23602-cd3f-44f7-fcef-2507c3768e7e"
      },
      "source": [
        "x = np.array([0,0.5,1,1.5,2,2.5,3,3.5])\r\n",
        "X = np.column_stack([[1,1,1,1,1,1,1,1],x,x**2,x**3,x**4,x**5,x**6,x**7])\r\n",
        "print(X)"
      ],
      "execution_count": 55,
      "outputs": [
        {
          "output_type": "stream",
          "text": [
            "[[1.00000000e+00 0.00000000e+00 0.00000000e+00 0.00000000e+00\n",
            "  0.00000000e+00 0.00000000e+00 0.00000000e+00 0.00000000e+00]\n",
            " [1.00000000e+00 5.00000000e-01 2.50000000e-01 1.25000000e-01\n",
            "  6.25000000e-02 3.12500000e-02 1.56250000e-02 7.81250000e-03]\n",
            " [1.00000000e+00 1.00000000e+00 1.00000000e+00 1.00000000e+00\n",
            "  1.00000000e+00 1.00000000e+00 1.00000000e+00 1.00000000e+00]\n",
            " [1.00000000e+00 1.50000000e+00 2.25000000e+00 3.37500000e+00\n",
            "  5.06250000e+00 7.59375000e+00 1.13906250e+01 1.70859375e+01]\n",
            " [1.00000000e+00 2.00000000e+00 4.00000000e+00 8.00000000e+00\n",
            "  1.60000000e+01 3.20000000e+01 6.40000000e+01 1.28000000e+02]\n",
            " [1.00000000e+00 2.50000000e+00 6.25000000e+00 1.56250000e+01\n",
            "  3.90625000e+01 9.76562500e+01 2.44140625e+02 6.10351562e+02]\n",
            " [1.00000000e+00 3.00000000e+00 9.00000000e+00 2.70000000e+01\n",
            "  8.10000000e+01 2.43000000e+02 7.29000000e+02 2.18700000e+03]\n",
            " [1.00000000e+00 3.50000000e+00 1.22500000e+01 4.28750000e+01\n",
            "  1.50062500e+02 5.25218750e+02 1.83826562e+03 6.43392969e+03]]\n"
          ],
          "name": "stdout"
        }
      ]
    },
    {
      "cell_type": "code",
      "metadata": {
        "colab": {
          "base_uri": "https://localhost:8080/"
        },
        "id": "QbAmGkaJ93Lb",
        "outputId": "bc79efbc-34d5-4878-ffd7-fcbc925daf43"
      },
      "source": [
        "y = np.array([0,0.47942,0.84147,0.99749,0.90930,0.59847,0.14112,-0.35078]).reshape(8,1)\r\n",
        "print(y)"
      ],
      "execution_count": 56,
      "outputs": [
        {
          "output_type": "stream",
          "text": [
            "[[ 0.     ]\n",
            " [ 0.47942]\n",
            " [ 0.84147]\n",
            " [ 0.99749]\n",
            " [ 0.9093 ]\n",
            " [ 0.59847]\n",
            " [ 0.14112]\n",
            " [-0.35078]]\n"
          ],
          "name": "stdout"
        }
      ]
    },
    {
      "cell_type": "code",
      "metadata": {
        "colab": {
          "base_uri": "https://localhost:8080/"
        },
        "id": "lDgQsdIg97mo",
        "outputId": "2bbcc5d3-3677-44cb-8838-b3e0627c1614"
      },
      "source": [
        "a = la.solve(X,y)\r\n",
        "print(a)"
      ],
      "execution_count": 57,
      "outputs": [
        {
          "output_type": "stream",
          "text": [
            "[[ 0.00000000e+00]\n",
            " [ 1.00067181e+00]\n",
            " [-3.70788889e-03]\n",
            " [-1.58867889e-01]\n",
            " [-8.30222222e-03]\n",
            " [ 1.31964444e-02]\n",
            " [-1.54488889e-03]\n",
            " [ 2.46349206e-05]]\n"
          ],
          "name": "stdout"
        }
      ]
    },
    {
      "cell_type": "code",
      "metadata": {
        "colab": {
          "base_uri": "https://localhost:8080/",
          "height": 295
        },
        "id": "bRYO6RHl98_j",
        "outputId": "dcea6681-9c9a-4eac-8bdb-45717e203404"
      },
      "source": [
        "xs = np.linspace(0,7,20)\r\n",
        "ys = a[0] + a[1]*xs + a[2]*xs**2 + a[3]*xs**4 + a[4]*xs**5 + a[4]*xs**6 + a[4]*xs**7 + a[4]*xs**8\r\n",
        "plt.plot(xs,ys,x,y,'b.',ms=20)\r\n",
        "plt.grid()\r\n",
        "plt.title('Polinomio interpolante p(x)')\r\n",
        "plt.xlabel('x')\r\n",
        "plt.ylabel('y')\r\n",
        "plt.show()"
      ],
      "execution_count": 58,
      "outputs": [
        {
          "output_type": "display_data",
          "data": {
            "image/png": "[encoded data removed]",
            "text/plain": [
              "<Figure size 432x288 with 1 Axes>"
            ]
          },
          "metadata": {
            "tags": [],
            "needs_background": "light"
          }
        }
      ]
    },
    {
      "cell_type": "markdown",
      "metadata": {
        "id": "NPwqhUT3AwBc"
      },
      "source": [
        "EJERCICIO 6"
      ]
    },
    {
      "cell_type": "code",
      "metadata": {
        "colab": {
          "base_uri": "https://localhost:8080/",
          "height": 295
        },
        "id": "o_Xzdw_M_OcN",
        "outputId": "769896f9-97a7-4920-956d-c308f369f7c9"
      },
      "source": [
        "# Coeficientes de la recta\r\n",
        "a0 = 5\r\n",
        "a1 = 10\r\n",
        "# Número de puntos entre (10,40)\r\n",
        "N = 100\r\n",
        "x = np.random.rand(100)\r\n",
        "# Ruido gaussiano\r\n",
        "noise = 0.2*np.random.randn(100)\r\n",
        "# Agregamos el ruido a la recta\r\n",
        "y = a0 + a1*x + noise\r\n",
        "\r\n",
        "plt.scatter(x,y);\r\n",
        "plt.grid()\r\n",
        "plt.title('Datos de temperatura')\r\n",
        "plt.xlabel('x')\r\n",
        "plt.ylabel('y')\r\n",
        "plt.show()"
      ],
      "execution_count": 59,
      "outputs": [
        {
          "output_type": "display_data",
          "data": {
            "image/png": "[encoded data removed]",
            "text/plain": [
              "<Figure size 432x288 with 1 Axes>"
            ]
          },
          "metadata": {
            "tags": [],
            "needs_background": "light"
          }
        }
      ]
    },
    {
      "cell_type": "code",
      "metadata": {
        "colab": {
          "base_uri": "https://localhost:8080/"
        },
        "id": "oqD6olCABMLk",
        "outputId": "cf28acf2-633d-441f-94d4-f6e79d474c07"
      },
      "source": [
        "# Creamos la matriz X, con 1's en la primera columna y los puntos x_k en la segunda.\r\n",
        "X = np.column_stack([np.ones(N),x])\r\n",
        "print('Shape:', X.shape)\r\n",
        "# Imprimimos los primeros 5 renglones para verificar\r\n",
        "print(X[:5,:])"
      ],
      "execution_count": 60,
      "outputs": [
        {
          "output_type": "stream",
          "text": [
            "Shape: (100, 2)\n",
            "[[1.         0.80229859]\n",
            " [1.         0.68825446]\n",
            " [1.         0.79284758]\n",
            " [1.         0.35273992]\n",
            " [1.         0.84859162]]\n"
          ],
          "name": "stdout"
        }
      ]
    },
    {
      "cell_type": "code",
      "metadata": {
        "colab": {
          "base_uri": "https://localhost:8080/"
        },
        "id": "jgi4_kCABWKp",
        "outputId": "517d814e-1d13-415f-8b71-09da1a0707c1"
      },
      "source": [
        "a = la.solve(X.T @ X, X.T @ y)\r\n",
        "print(a)"
      ],
      "execution_count": 61,
      "outputs": [
        {
          "output_type": "stream",
          "text": [
            "[ 4.93102256 10.08323603]\n"
          ],
          "name": "stdout"
        }
      ]
    },
    {
      "cell_type": "code",
      "metadata": {
        "colab": {
          "base_uri": "https://localhost:8080/",
          "height": 295
        },
        "id": "eGB7mRi5Bxff",
        "outputId": "577f6a3f-2f9d-4010-f43a-0ff8bc2a7d27"
      },
      "source": [
        "xs = np.linspace(0,1,10)\r\n",
        "ys = a[0] + a[1]*xs\r\n",
        "plt.plot(xs,ys,'r',linewidth=4)\r\n",
        "plt.scatter(x,y);\r\n",
        "plt.grid()\r\n",
        "plt.title('Ajuste mediante Regresión Lineal de los datos')\r\n",
        "plt.xlabel('x')\r\n",
        "plt.ylabel('y')\r\n",
        "plt.show()"
      ],
      "execution_count": 62,
      "outputs": [
        {
          "output_type": "display_data",
          "data": {
            "image/png": "[encoded data removed]",
            "text/plain": [
              "<Figure size 432x288 with 1 Axes>"
            ]
          },
          "metadata": {
            "tags": [],
            "needs_background": "light"
          }
        }
      ]
    },
    {
      "cell_type": "code",
      "metadata": {
        "colab": {
          "base_uri": "https://localhost:8080/",
          "height": 295
        },
        "id": "DXTmocNXB17v",
        "outputId": "34811955-4c68-42ae-a3ce-8e2d3d3bfc40"
      },
      "source": [
        "\r\n",
        "a0 = 1\r\n",
        "a1 = 3\r\n",
        "a2 = 7\r\n",
        "# Generaremos 1000 datos aleatorios entre (10,40)\r\n",
        "N = 1000\r\n",
        "x = 2*np.random.rand(N) - 1 # Distribuimos los datos entre (-1,1)\r\n",
        "# Ruido gaussiano\r\n",
        "noise = np.random.randn(N)\r\n",
        "# Una parábola con ruido\r\n",
        "y = a0 + a1*x + a2*x**2 + noise\r\n",
        "plt.scatter(x,y,alpha=0.5,lw=0);\r\n",
        "plt.grid()\r\n",
        "plt.title('Colección de datos aleatorios')\r\n",
        "plt.xlabel('x')\r\n",
        "plt.ylabel('y')\r\n",
        "plt.show()"
      ],
      "execution_count": 64,
      "outputs": [
        {
          "output_type": "display_data",
          "data": {
            "image/png": "[encoded data removed]",
            "text/plain": [
              "<Figure size 432x288 with 1 Axes>"
            ]
          },
          "metadata": {
            "tags": [],
            "needs_background": "light"
          }
        }
      ]
    },
    {
      "cell_type": "code",
      "metadata": {
        "colab": {
          "base_uri": "https://localhost:8080/"
        },
        "id": "yu6iFTYKB91L",
        "outputId": "c4f45d56-0907-484a-eb93-e11862a677c7"
      },
      "source": [
        "# Construimos la matriz de Vandermonde\r\n",
        "X = np.column_stack([np.ones(N),x,x**2])\r\n",
        "print('Shape:', X.shape)\r\n",
        "# Imprimimos los primeros 5 renglones para verificar\r\n",
        "print(X[:5,:])"
      ],
      "execution_count": 65,
      "outputs": [
        {
          "output_type": "stream",
          "text": [
            "Shape: (1000, 3)\n",
            "[[ 1.          0.55478123  0.30778222]\n",
            " [ 1.         -0.60111984  0.36134506]\n",
            " [ 1.         -0.88293194  0.77956881]\n",
            " [ 1.         -0.8961937   0.80316314]\n",
            " [ 1.          0.16055099  0.02577662]]\n"
          ],
          "name": "stdout"
        }
      ]
    },
    {
      "cell_type": "code",
      "metadata": {
        "colab": {
          "base_uri": "https://localhost:8080/"
        },
        "id": "RZ90e3AwCBx2",
        "outputId": "d720d1f8-15e1-4a5a-fa03-a4c4eefcde19"
      },
      "source": [
        "# Usamos la función scipy.linalg.solve() para resolver la ecuación X.T@X@a = X.T@y respecto a 'a'\r\n",
        "a = la.solve(X.T @ X, X.T @ y)\r\n",
        "print(a)"
      ],
      "execution_count": 66,
      "outputs": [
        {
          "output_type": "stream",
          "text": [
            "[1.0518046  2.96896923 6.85934558]\n"
          ],
          "name": "stdout"
        }
      ]
    },
    {
      "cell_type": "code",
      "metadata": {
        "colab": {
          "base_uri": "https://localhost:8080/",
          "height": 295
        },
        "id": "FvxSJORQCeXG",
        "outputId": "0ac758cc-9132-445d-bd8d-d8dc7e4f6cf7"
      },
      "source": [
        "\r\n",
        "xs = np.linspace(-1,1,5)\r\n",
        "ys = a[0] + a[1]*xs + a[2]*xs**2\r\n",
        "plt.plot(xs,ys,'r',linewidth=4)\r\n",
        "plt.scatter(x,y,alpha=0.5,lw=0)\r\n",
        "plt.grid()\r\n",
        "plt.title('Ajuste mediante Regresión Cuadrática para nuestras temperaturas')\r\n",
        "plt.xlabel('x')\r\n",
        "plt.ylabel('y')\r\n",
        "plt.show()\r\n"
      ],
      "execution_count": 67,
      "outputs": [
        {
          "output_type": "display_data",
          "data": {
            "image/png": "[encoded data removed]",
            "text/plain": [
              "<Figure size 432x288 with 1 Axes>"
            ]
          },
          "metadata": {
            "tags": [],
            "needs_background": "light"
          }
        }
      ]
    }
  ]
}