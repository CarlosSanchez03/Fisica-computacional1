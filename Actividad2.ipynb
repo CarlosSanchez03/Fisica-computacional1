{
  "nbformat": 4,
  "nbformat_minor": 0,
  "metadata": {
    "colab": {
      "name": "Actividad2.ipynb",
      "provenance": [],
      "authorship_tag": "ABX9TyPRUbq6aqmbkechIuRwRQya",
      "include_colab_link": true
    },
    "kernelspec": {
      "name": "python3",
      "display_name": "Python 3"
    }
  },
  "cells": [
    {
      "cell_type": "markdown",
      "metadata": {
        "id": "view-in-github",
        "colab_type": "text"
      },
      "source": [
        "<a href=\"https://colab.research.google.com/github/CarlosSanchez03/Fisica-computacional1/blob/main/Actividad2.ipynb\" target=\"_parent\"><img src=\"https://colab.research.google.com/assets/colab-badge.svg\" alt=\"Open In Colab\"/></a>"
      ]
    },
    {
      "cell_type": "code",
      "metadata": {
        "id": "qSLDvMbxakKR"
      },
      "source": [
        "import numpy as np\r\n",
        "from math import sqrt\r\n",
        "import matplotlib.pyplot as plt"
      ],
      "execution_count": 48,
      "outputs": []
    },
    {
      "cell_type": "markdown",
      "metadata": {
        "id": "WZnjouUki94q"
      },
      "source": [
        "El siguiente código será capaz de calcular el area de un criculo, utlizando la ecuación:\r\n",
        "$a=\\pi*r^2$"
      ]
    },
    {
      "cell_type": "code",
      "metadata": {
        "id": "GkK7c-OK5aQw",
        "colab": {
          "base_uri": "https://localhost:8080/"
        },
        "outputId": "82184435-914d-4895-a7cc-0998fbeacc3c"
      },
      "source": [
        " \r\n",
        "def area_circulo(r):\r\n",
        "   return np.pi*r**2\r\n",
        "    \r\n",
        "print(\"Proporciona el radio del circulo: \", end=\"\")\r\n",
        "r= float(input())\r\n",
        "area=area_circulo(r)\r\n",
        "# Imprime el valor del área en formato libre.\r\n",
        "print(\"\\narea = \", area)\r\n",
        "# Imprime el valor del área con 2 decimales. \r\n",
        "\r\n",
        "print(\"\\narea = {:.2f}\".format(area))\r\n"
      ],
      "execution_count": 13,
      "outputs": [
        {
          "output_type": "stream",
          "text": [
            "Proporciona el radio del circulo: 3\n",
            "\n",
            "area =  28.274333882308138\n",
            "\n",
            "area = 28.27\n"
          ],
          "name": "stdout"
        }
      ]
    },
    {
      "cell_type": "markdown",
      "metadata": {
        "id": "Y4mX1Ay1Rw9q"
      },
      "source": [
        "El siguiente código será capaz de calcular el area de una elpise, para ello se utiliza la ecuación $a=\\pi*a*b$\r\n"
      ]
    },
    {
      "cell_type": "markdown",
      "metadata": {
        "id": "dcI5i6xuRxFs"
      },
      "source": [
        "\r\n",
        "\r\n",
        "---\r\n",
        "\r\n",
        "---\r\n",
        "\r\n",
        "\r\n",
        "\r\n"
      ]
    },
    {
      "cell_type": "code",
      "metadata": {
        "id": "4_xKoAx35qhh",
        "colab": {
          "base_uri": "https://localhost:8080/"
        },
        "outputId": "5d54de4c-b612-490b-ef4d-e26d181e88cf"
      },
      "source": [
        "\r\n",
        "\r\n",
        "def area_elipse(a,b):\r\n",
        "    return np.pi*a*b\r\n",
        "    \r\n",
        "print(\"Proporciona el eje mayor de la elipse: \", end=\"\")\r\n",
        "a= float(input())\r\n",
        "print(\"Proporciona el eje menor de la elipse: \", end=\"\")\r\n",
        "b=float(input())\r\n",
        "# Imprime el valor del área en formato libre.\r\n",
        "a=area_elipse(a,b)\r\n",
        "print(\"\\narea = \", a)\r\n",
        "# Imprime el valor del área con 2 decimales. \r\n",
        "\r\n",
        "print(\"\\narea = {:.2f}\".format(a))"
      ],
      "execution_count": 10,
      "outputs": [
        {
          "output_type": "stream",
          "text": [
            "Proporciona el eje mayor de la elipse: 6\n",
            "Proporciona el eje menor de la elipse: 3\n",
            "\n",
            "area =  56.548667764616276\n",
            "\n",
            "area = 56.55\n"
          ],
          "name": "stdout"
        }
      ]
    },
    {
      "cell_type": "markdown",
      "metadata": {
        "id": "ww-XJ4Pgj5vU"
      },
      "source": [
        "El siguiente código será capaz de obtener el volumen de una esfera, utilizando la siguiente ecuación:\r\n",
        "$\\frac{4}{3}\\pi*r^3$"
      ]
    },
    {
      "cell_type": "code",
      "metadata": {
        "colab": {
          "base_uri": "https://localhost:8080/"
        },
        "id": "XpzOUhvHSDV4",
        "outputId": "6a7fba4c-5268-4df8-d632-1fd15ea2e1c9"
      },
      "source": [
        "\r\n",
        "def volumen_esfera(r):\r\n",
        "    return (4/3)*np.pi*r**3\r\n",
        "print(\"Proporciona el radio: \", end=\"\")\r\n",
        "r= float(input())\r\n",
        "v=volumen_esfera(r)\r\n",
        "# Imprime el valor del volumen en formato libre.\r\n",
        "print(\"\\nvolumen = \", v)\r\n",
        "# Imprime el valor del volumen con 2 decimales. \r\n",
        "\r\n",
        "print(\"\\nvolumen = {:.2f}\".format(v))"
      ],
      "execution_count": 15,
      "outputs": [
        {
          "output_type": "stream",
          "text": [
            "Proporciona el radio: 6\n",
            "\n",
            "volumen =  904.7786842338603\n",
            "\n",
            "volumen = 904.78\n"
          ],
          "name": "stdout"
        }
      ]
    },
    {
      "cell_type": "markdown",
      "metadata": {
        "id": "MRlWblhTnM_T"
      },
      "source": [
        "El siguiente código podrá calcular el volumen de un cilindro circular recto, utilizando la siguiente formula:\r\n",
        "$\\pi*r^2*h$"
      ]
    },
    {
      "cell_type": "code",
      "metadata": {
        "colab": {
          "base_uri": "https://localhost:8080/"
        },
        "id": "0mCHnb0yWzWN",
        "outputId": "229354fd-9051-4cb1-9db0-102f62c0efae"
      },
      "source": [
        "\r\n",
        "def volumen_cilindro(r,h):\r\n",
        "    return np.pi*r**2*h\r\n",
        "print(\"Proporciona el radio: \", end=\"\")\r\n",
        "r= float(input())\r\n",
        "print(\"Proporciona la altura\")\r\n",
        "h=float(input())\r\n",
        "v=volumen_cilindro(r,h)\r\n",
        "# Imprime el valor del volumen en formato libre.\r\n",
        "print(\"\\nvolumen = \", v)\r\n",
        "# Imprime el valor del volumen con 2 decimales. \r\n",
        "\r\n",
        "print(\"\\nvolumen = {:.2f}\".format(v))"
      ],
      "execution_count": 16,
      "outputs": [
        {
          "output_type": "stream",
          "text": [
            "Proporciona el radio: 3\n",
            "Proporciona la altura\n",
            "6\n",
            "\n",
            "volumen =  169.64600329384882\n",
            "\n",
            "volumen = 169.65\n"
          ],
          "name": "stdout"
        }
      ]
    },
    {
      "cell_type": "code",
      "metadata": {
        "colab": {
          "base_uri": "https://localhost:8080/"
        },
        "id": "R0ySPFQhZF3V",
        "outputId": "8afbe324-fb76-404e-de20-4692b78f1af6"
      },
      "source": [
        "#primero se pedirá al usuario que ingrese el valor de los coeficientes de las variables de la ecuación\r\n",
        "A=int(input(\"Proporcione el coeficiente de la variable cuadrática\\n\"))\r\n",
        "B =int(input(\"Proporcione el coeficiente de la variable lineal\\n\"))\r\n",
        "C=int(input(\"Ingrese el término independiente\\n\"))\r\n",
        "\r\n",
        "if ((B**2)-4*A*C) < 0:\r\n",
        "  print(\"Por favor ingrese coeficientes que sus raices sean reales\")\r\n",
        "else:\r\n",
        "  x1=(-B+sqrt(B**2-(4*A*C)))/(2*A)\r\n",
        "  x2=(-B-sqrt(B**2-(4*A*C)))/(2*A)\r\n",
        "\r\n",
        "  print(\"Las raices de la ecuación son:\")\r\n",
        "  print(x1)\r\n",
        "  print(x2)"
      ],
      "execution_count": 22,
      "outputs": [
        {
          "output_type": "stream",
          "text": [
            "Proporcione el coeficiente de la variable cuadrática\n",
            "3\n",
            "Proporcione el coeficiente de la variable lineal\n",
            "4\n",
            "Ingrese el término independiente\n",
            "1\n",
            "Las raices de la ecuación son:\n",
            "-0.3333333333333333\n",
            "-1.0\n"
          ],
          "name": "stdout"
        }
      ]
    },
    {
      "cell_type": "code",
      "metadata": {
        "colab": {
          "base_uri": "https://localhost:8080/"
        },
        "id": "5HHdXmogsq3D",
        "outputId": "03f85402-953f-4a09-c905-b9be39e8f12f"
      },
      "source": [
        "#Metodo babilonico para calcular raiz de un número S\r\n",
        "S = float(input(\"por favor ingrese el numero del cual desee obtener su raiz cuadrada\"))\r\n",
        "x_0 = S\r\n",
        "x_1 = [x_0] # guardaremos la aprroximacion de cada iteracion\r\n",
        "for i in range(3):\r\n",
        "    x_2 = x_1[-1] # el ultimo elemento de la lista\r\n",
        "    x_3= (S + x_2**2) / (2*x_2)\r\n",
        "    x_1.append(x_3)\r\n",
        "\r\n",
        "print(x_1)\r\n",
        "print(x_1[-1])\r\n",
        "print(f\"Error: {x_1[-1] - np.sqrt(S)}\")\r\n",
        "print(np.sqrt(S))"
      ],
      "execution_count": 30,
      "outputs": [
        {
          "output_type": "stream",
          "text": [
            "por favor ingrese el numero del cual desee obtener su raiz cuadrada4\n",
            "[4.0, 2.5, 2.05, 2.0006097560975613]\n",
            "2.0006097560975613\n",
            "Error: 0.0006097560975613092\n",
            "2.0\n"
          ],
          "name": "stdout"
        }
      ]
    },
    {
      "cell_type": "code",
      "metadata": {
        "colab": {
          "base_uri": "https://localhost:8080/"
        },
        "id": "P6hfuRiwaP1V",
        "outputId": "cffecc0a-82f8-4d43-9fba-d128726cf4f0"
      },
      "source": [
        "import matplotlib.pyplot as plt\r\n",
        "\r\n",
        "\r\n",
        "y =np.log(x+1)\r\n",
        "\r\n",
        "y1=x\r\n",
        "y2=x**2/2\r\n",
        "y3=x**3/3\r\n",
        "y4=x**4/4\r\n",
        "y5=x**5/5\r\n",
        "y6=x**6/6\r\n",
        "y6=x**6/6\r\n",
        "y6=x**6/6\r\n",
        "y7=x**7/7\r\n",
        "y8=x**8/8\r\n",
        "y9=x**9/9\r\n",
        "y10=x**10/10\r\n",
        "y11=x**11/11\r\n",
        "y12=x**12/12\r\n",
        "y13=x**13/13\r\n",
        "y14=x**14/14\r\n",
        "y15=x**15/15\r\n",
        "y16=x**16/16\r\n",
        "T4 =y1-y2+y3-y4 \r\n",
        "T7=y1-y2+y3-y4+y5-y6+y7\r\n",
        "T11=y1-y2+y3-y4+y5-y6+y7-y8+y9-y10+y11\r\n",
        "T16=y1-y2+y3-y4+y5-y6+y7-y8+y9-y10+y11-y12+y13-y14+y15-y16"
      ],
      "execution_count": 90,
      "outputs": [
        {
          "output_type": "stream",
          "text": [
            "/usr/local/lib/python3.6/dist-packages/ipykernel_launcher.py:4: RuntimeWarning: invalid value encountered in log\n",
            "  after removing the cwd from sys.path.\n"
          ],
          "name": "stderr"
        }
      ]
    },
    {
      "cell_type": "code",
      "metadata": {
        "colab": {
          "base_uri": "https://localhost:8080/",
          "height": 295
        },
        "id": "6BeDe8IMAWvt",
        "outputId": "ba946aa2-b60f-45ad-8326-927261838d6d"
      },
      "source": [
        "\r\n",
        "plt.subplot(111)\r\n",
        "\r\n",
        "plt.xlabel(\"X label\")\r\n",
        "\r\n",
        "plt.ylabel(\"Y label\")\r\n",
        "\r\n",
        "plt.title(\"Title\")\r\n",
        "plt.plot(x,y, label='Ln(x+1)')\r\n",
        "plt.plot(x,T4, label='T4')\r\n",
        "plt.plot(x,T7, label='T7')\r\n",
        "plt.plot(x,T11, label='T11')\r\n",
        "plt.plot(x,T16,label='T16')\r\n",
        "# Agregar una malla\r\n",
        "\r\n",
        "\r\n",
        "\r\n",
        "# Fijar los límites en el eje Y.\r\n",
        "plt.grid(True)\r\n",
        "plt.ylim(-4, 2)\r\n",
        "\r\n",
        "# Ubicación de las etiquetas de las funciones\r\n",
        "\r\n",
        "plt.legend(bbox_to_anchor=(1,1), loc=\"upper left\")\r\n",
        "\r\n",
        "plt.show()\r\n",
        "\r\n",
        "#plt.savefig('plot.png')  # Si se desea guardar en un archivo la imagen de la gráfica"
      ],
      "execution_count": 91,
      "outputs": [
        {
          "output_type": "display_data",
          "data": {
            "image/png": "[encoded data removed]",
            "text/plain": [
              "<Figure size 432x288 with 1 Axes>"
            ]
          },
          "metadata": {
            "tags": [],
            "needs_background": "light"
          }
        }
      ]
    },
    {
      "cell_type": "code",
      "metadata": {
        "colab": {
          "base_uri": "https://localhost:8080/"
        },
        "id": "Dme632mhiPtZ",
        "outputId": "936dd9fd-4eca-4ef5-fc95-0667b8d0165a"
      },
      "source": [
        "# Condicional: if\r\n",
        "x = 3\r\n",
        "y = 2\r\n",
        "z = 1\r\n",
        "if x == y:\r\n",
        "     print(\"Hola\")\r\n",
        "elif x == z:\r\n",
        "     print(\"Hasta luego\")\r\n",
        "else:\r\n",
        "     print(\"???\")"
      ],
      "execution_count": 92,
      "outputs": [
        {
          "output_type": "stream",
          "text": [
            "???\n"
          ],
          "name": "stdout"
        }
      ]
    },
    {
      "cell_type": "code",
      "metadata": {
        "colab": {
          "base_uri": "https://localhost:8080/"
        },
        "id": "qT73ikNtimXj",
        "outputId": "0fcea4a0-3f00-4ab4-995e-55e4416d0cf8"
      },
      "source": [
        "# Loop: for\r\n",
        "print(\"loop 1\")\r\n",
        "for i in range(5): # default - comienza en 0, incrementa en 1\r\n",
        "     print(i)\r\n",
        "\r\n",
        "print(\"\\nloop 2\")\r\n",
        "\r\n",
        "for i in range(10, 2, -2): # entradas: inicio, fin, tamaño de paso \r\n",
        "     print(i)"
      ],
      "execution_count": 93,
      "outputs": [
        {
          "output_type": "stream",
          "text": [
            "loop 1\n",
            "0\n",
            "1\n",
            "2\n",
            "3\n",
            "4\n",
            "\n",
            "loop 2\n",
            "10\n",
            "8\n",
            "6\n",
            "4\n"
          ],
          "name": "stdout"
        }
      ]
    },
    {
      "cell_type": "code",
      "metadata": {
        "colab": {
          "base_uri": "https://localhost:8080/"
        },
        "id": "QAS2M5YmirPw",
        "outputId": "e1f215ac-1581-4750-b116-ea611989b7e0"
      },
      "source": [
        "# Loop: while\r\n",
        "i = 1\r\n",
        "while i < 100:\r\n",
        "     print(i**2)\r\n",
        "     i += i**2 # a += b es notación compacta de a = a + b"
      ],
      "execution_count": 94,
      "outputs": [
        {
          "output_type": "stream",
          "text": [
            "1\n",
            "4\n",
            "36\n",
            "1764\n"
          ],
          "name": "stdout"
        }
      ]
    },
    {
      "cell_type": "code",
      "metadata": {
        "colab": {
          "base_uri": "https://localhost:8080/"
        },
        "id": "YJF5oxoLiwAz",
        "outputId": "134f455f-9840-4848-be82-807bb41c649c"
      },
      "source": [
        "# Ejemplos de: continue y break \r\n",
        "for num in range(2, 10):\r\n",
        "\r\n",
        "     if num % 2 == 0:\r\n",
        "\r\n",
        "          continue # se regresa al inicio\r\n",
        "\r\n",
        "     print(f\"Encontrado {num}, un número impar\")\r\n",
        "n = 64\r\n",
        "\r\n",
        "for x in range(2, n):\r\n",
        "\r\n",
        "     if n % x == 0: # si n es divisible por x (modulo 0)\r\n",
        "\r\n",
        "          print(f'{n} igual {x} * {n // x}')\r\n",
        "          break\r\n",
        "\r\n",
        "for i in range(5):\r\n",
        "     for j in range(5*i):\r\n",
        "          if j == 10:\r\n",
        "               print(j)\r\n",
        "               break\r\n",
        "\r\n",
        "#break se va a esta línea\r\n",
        "\r\n",
        "if False:\r\n",
        "     pass # no hace nada, continua\r\n",
        "\r\n",
        "else:\r\n",
        "     print('True!')"
      ],
      "execution_count": 96,
      "outputs": [
        {
          "output_type": "stream",
          "text": [
            "Encontrado 3, un número impar\n",
            "Encontrado 5, un número impar\n",
            "Encontrado 7, un número impar\n",
            "Encontrado 9, un número impar\n",
            "64 igual 2 * 32\n",
            "10\n",
            "10\n",
            "True!\n"
          ],
          "name": "stdout"
        }
      ]
    }
  ]
}