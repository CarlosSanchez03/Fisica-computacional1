{
  "nbformat": 4,
  "nbformat_minor": 0,
  "metadata": {
    "colab": {
      "name": "Actividad3.ipynb",
      "provenance": [],
      "collapsed_sections": []
    },
    "kernelspec": {
      "name": "python3",
      "display_name": "Python 3"
    }
  },
  "cells": [
    {
      "cell_type": "code",
      "metadata": {
        "id": "TxqbhtPT_CzG"
      },
      "source": [
        "import numpy as np\r\n",
        "import pandas as pd"
      ],
      "execution_count": 2,
      "outputs": []
    },
    {
      "cell_type": "code",
      "metadata": {
        "id": "AEFvphoZAe52"
      },
      "source": [
        "url=\"https://raw.githubusercontent.com/CarlosSanchez03/Fisica-computacional1/main/Actividad1/diario%20durango.txt\"\r\n",
        "my_cols = ['Fecha', 'Precip', 'Evap', 'TempMax', 'TempMin']\r\n",
        "df_dist = pd.read_csv(url, names=my_cols, encoding='cp1251', sep='\\s+', header=None, skiprows=19, skipfooter=1, engine='python')"
      ],
      "execution_count": 31,
      "outputs": []
    },
    {
      "cell_type": "code",
      "metadata": {
        "colab": {
          "base_uri": "https://localhost:8080/"
        },
        "id": "a1SDuhaVP-hB",
        "outputId": "cce652e8-acf6-4cda-d76c-a28e8d755016"
      },
      "source": [
        "#Imprimo el encabezado y el final del df\r\n",
        "print(df_dist.head(10))\r\n",
        "print(df_dist.tail(10))\r\n"
      ],
      "execution_count": 32,
      "outputs": [
        {
          "output_type": "stream",
          "text": [
            "        Fecha Precip Evap TempMax TempMin\n",
            "0  01/01/1941      0  3.3    19.5     3.5\n",
            "1  02/01/1941      0  3.8    21.5     2.5\n",
            "2  03/01/1941      0  5.8    23.5     5.5\n",
            "3  04/01/1941      0  5.7      19     7.5\n",
            "4  05/01/1941      0    5    21.5    -4.5\n",
            "5  06/01/1941      0  4.9    23.5    -2.5\n",
            "6  07/01/1941      0  8.1    23.5    -3.5\n",
            "7  08/01/1941      0  5.3    24.5      -1\n",
            "8  09/01/1941    0.1  3.6    20.5       3\n",
            "9  10/01/1941    0.2  2.9      19       7\n",
            "            Fecha Precip Evap TempMax TempMin\n",
            "15517  22/12/2000      0  4.5      24     0.4\n",
            "15518  23/12/2000      0  5.1      22       2\n",
            "15519  24/12/2000      0    4      21     2.5\n",
            "15520  25/12/2000      0    4      22     3.7\n",
            "15521  26/12/2000      0  4.2    20.5     5.8\n",
            "15522  27/12/2000    0.4  3.6    12.5       8\n",
            "15523  28/12/2000      1  1.9      11       5\n",
            "15524  29/12/2000      0  1.1      16     0.3\n",
            "15525  30/12/2000      0  3.5      19    -0.5\n",
            "15526  31/12/2000      0  4.5      20       0\n"
          ],
          "name": "stdout"
        }
      ]
    },
    {
      "cell_type": "code",
      "metadata": {
        "colab": {
          "base_uri": "https://localhost:8080/"
        },
        "id": "yq-IIvqMQV7l",
        "outputId": "349306ff-189e-404b-ed1a-4d146b640b4a"
      },
      "source": [
        "#Veo las dimensiones de mi df\r\n",
        "df_dist.shape\r\n",
        "\r\n"
      ],
      "execution_count": 33,
      "outputs": [
        {
          "output_type": "execute_result",
          "data": {
            "text/plain": [
              "(15527, 5)"
            ]
          },
          "metadata": {
            "tags": []
          },
          "execution_count": 33
        }
      ]
    },
    {
      "cell_type": "code",
      "metadata": {
        "colab": {
          "base_uri": "https://localhost:8080/"
        },
        "id": "Qt3SjeFYQ0k7",
        "outputId": "f468ba50-8811-4e57-bc63-9f85d9148090"
      },
      "source": [
        "#Veo el contenido completo\r\n",
        "df_dist.info()"
      ],
      "execution_count": 34,
      "outputs": [
        {
          "output_type": "stream",
          "text": [
            "<class 'pandas.core.frame.DataFrame'>\n",
            "RangeIndex: 15527 entries, 0 to 15526\n",
            "Data columns (total 5 columns):\n",
            " #   Column   Non-Null Count  Dtype \n",
            "---  ------   --------------  ----- \n",
            " 0   Fecha    15527 non-null  object\n",
            " 1   Precip   15527 non-null  object\n",
            " 2   Evap     15527 non-null  object\n",
            " 3   TempMax  15527 non-null  object\n",
            " 4   TempMin  15527 non-null  object\n",
            "dtypes: object(5)\n",
            "memory usage: 606.6+ KB\n"
          ],
          "name": "stdout"
        }
      ]
    },
    {
      "cell_type": "code",
      "metadata": {
        "colab": {
          "base_uri": "https://localhost:8080/",
          "height": 198
        },
        "id": "KohWz7RqQ6xy",
        "outputId": "b33edf78-4d23-42bd-f968-dd023dbdbaa1"
      },
      "source": [
        "df_work0 = df_dist.copy()\r\n",
        "df_work0.head()"
      ],
      "execution_count": 35,
      "outputs": [
        {
          "output_type": "execute_result",
          "data": {
            "text/html": [
              "<div>\n",
              "<style scoped>\n",
              "    .dataframe tbody tr th:only-of-type {\n",
              "        vertical-align: middle;\n",
              "    }\n",
              "\n",
              "    .dataframe tbody tr th {\n",
              "        vertical-align: top;\n",
              "    }\n",
              "\n",
              "    .dataframe thead th {\n",
              "        text-align: right;\n",
              "    }\n",
              "</style>\n",
              "<table border=\"1\" class=\"dataframe\">\n",
              "  <thead>\n",
              "    <tr style=\"text-align: right;\">\n",
              "      <th></th>\n",
              "      <th>Fecha</th>\n",
              "      <th>Precip</th>\n",
              "      <th>Evap</th>\n",
              "      <th>TempMax</th>\n",
              "      <th>TempMin</th>\n",
              "    </tr>\n",
              "  </thead>\n",
              "  <tbody>\n",
              "    <tr>\n",
              "      <th>0</th>\n",
              "      <td>01/01/1941</td>\n",
              "      <td>0</td>\n",
              "      <td>3.3</td>\n",
              "      <td>19.5</td>\n",
              "      <td>3.5</td>\n",
              "    </tr>\n",
              "    <tr>\n",
              "      <th>1</th>\n",
              "      <td>02/01/1941</td>\n",
              "      <td>0</td>\n",
              "      <td>3.8</td>\n",
              "      <td>21.5</td>\n",
              "      <td>2.5</td>\n",
              "    </tr>\n",
              "    <tr>\n",
              "      <th>2</th>\n",
              "      <td>03/01/1941</td>\n",
              "      <td>0</td>\n",
              "      <td>5.8</td>\n",
              "      <td>23.5</td>\n",
              "      <td>5.5</td>\n",
              "    </tr>\n",
              "    <tr>\n",
              "      <th>3</th>\n",
              "      <td>04/01/1941</td>\n",
              "      <td>0</td>\n",
              "      <td>5.7</td>\n",
              "      <td>19</td>\n",
              "      <td>7.5</td>\n",
              "    </tr>\n",
              "    <tr>\n",
              "      <th>4</th>\n",
              "      <td>05/01/1941</td>\n",
              "      <td>0</td>\n",
              "      <td>5</td>\n",
              "      <td>21.5</td>\n",
              "      <td>-4.5</td>\n",
              "    </tr>\n",
              "  </tbody>\n",
              "</table>\n",
              "</div>"
            ],
            "text/plain": [
              "        Fecha Precip Evap TempMax TempMin\n",
              "0  01/01/1941      0  3.3    19.5     3.5\n",
              "1  02/01/1941      0  3.8    21.5     2.5\n",
              "2  03/01/1941      0  5.8    23.5     5.5\n",
              "3  04/01/1941      0  5.7      19     7.5\n",
              "4  05/01/1941      0    5    21.5    -4.5"
            ]
          },
          "metadata": {
            "tags": []
          },
          "execution_count": 35
        }
      ]
    },
    {
      "cell_type": "code",
      "metadata": {
        "colab": {
          "base_uri": "https://localhost:8080/",
          "height": 198
        },
        "id": "MXWMbTutRtpf",
        "outputId": "ffc87135-ff6c-4aa3-8d0a-ed966a13b193"
      },
      "source": [
        "str_Nulo = 'Nulo'\r\n",
        "df_work1 = df_work0.replace(to_replace=str_Nulo, value='', regex=True)\r\n",
        "df_work1.head()"
      ],
      "execution_count": 36,
      "outputs": [
        {
          "output_type": "execute_result",
          "data": {
            "text/html": [
              "<div>\n",
              "<style scoped>\n",
              "    .dataframe tbody tr th:only-of-type {\n",
              "        vertical-align: middle;\n",
              "    }\n",
              "\n",
              "    .dataframe tbody tr th {\n",
              "        vertical-align: top;\n",
              "    }\n",
              "\n",
              "    .dataframe thead th {\n",
              "        text-align: right;\n",
              "    }\n",
              "</style>\n",
              "<table border=\"1\" class=\"dataframe\">\n",
              "  <thead>\n",
              "    <tr style=\"text-align: right;\">\n",
              "      <th></th>\n",
              "      <th>Fecha</th>\n",
              "      <th>Precip</th>\n",
              "      <th>Evap</th>\n",
              "      <th>TempMax</th>\n",
              "      <th>TempMin</th>\n",
              "    </tr>\n",
              "  </thead>\n",
              "  <tbody>\n",
              "    <tr>\n",
              "      <th>0</th>\n",
              "      <td>01/01/1941</td>\n",
              "      <td>0</td>\n",
              "      <td>3.3</td>\n",
              "      <td>19.5</td>\n",
              "      <td>3.5</td>\n",
              "    </tr>\n",
              "    <tr>\n",
              "      <th>1</th>\n",
              "      <td>02/01/1941</td>\n",
              "      <td>0</td>\n",
              "      <td>3.8</td>\n",
              "      <td>21.5</td>\n",
              "      <td>2.5</td>\n",
              "    </tr>\n",
              "    <tr>\n",
              "      <th>2</th>\n",
              "      <td>03/01/1941</td>\n",
              "      <td>0</td>\n",
              "      <td>5.8</td>\n",
              "      <td>23.5</td>\n",
              "      <td>5.5</td>\n",
              "    </tr>\n",
              "    <tr>\n",
              "      <th>3</th>\n",
              "      <td>04/01/1941</td>\n",
              "      <td>0</td>\n",
              "      <td>5.7</td>\n",
              "      <td>19</td>\n",
              "      <td>7.5</td>\n",
              "    </tr>\n",
              "    <tr>\n",
              "      <th>4</th>\n",
              "      <td>05/01/1941</td>\n",
              "      <td>0</td>\n",
              "      <td>5</td>\n",
              "      <td>21.5</td>\n",
              "      <td>-4.5</td>\n",
              "    </tr>\n",
              "  </tbody>\n",
              "</table>\n",
              "</div>"
            ],
            "text/plain": [
              "        Fecha Precip Evap TempMax TempMin\n",
              "0  01/01/1941      0  3.3    19.5     3.5\n",
              "1  02/01/1941      0  3.8    21.5     2.5\n",
              "2  03/01/1941      0  5.8    23.5     5.5\n",
              "3  04/01/1941      0  5.7      19     7.5\n",
              "4  05/01/1941      0    5    21.5    -4.5"
            ]
          },
          "metadata": {
            "tags": []
          },
          "execution_count": 36
        }
      ]
    },
    {
      "cell_type": "code",
      "metadata": {
        "colab": {
          "base_uri": "https://localhost:8080/"
        },
        "id": "cKCbA0FrRXUy",
        "outputId": "4f10effc-66ea-40f7-d5da-067c0972cb56"
      },
      "source": [
        "df_work1.info()\r\n",
        "print(df_work1.head())"
      ],
      "execution_count": 37,
      "outputs": [
        {
          "output_type": "stream",
          "text": [
            "<class 'pandas.core.frame.DataFrame'>\n",
            "RangeIndex: 15527 entries, 0 to 15526\n",
            "Data columns (total 5 columns):\n",
            " #   Column   Non-Null Count  Dtype \n",
            "---  ------   --------------  ----- \n",
            " 0   Fecha    15527 non-null  object\n",
            " 1   Precip   15527 non-null  object\n",
            " 2   Evap     15527 non-null  object\n",
            " 3   TempMax  15527 non-null  object\n",
            " 4   TempMin  15527 non-null  object\n",
            "dtypes: object(5)\n",
            "memory usage: 606.6+ KB\n",
            "        Fecha Precip Evap TempMax TempMin\n",
            "0  01/01/1941      0  3.3    19.5     3.5\n",
            "1  02/01/1941      0  3.8    21.5     2.5\n",
            "2  03/01/1941      0  5.8    23.5     5.5\n",
            "3  04/01/1941      0  5.7      19     7.5\n",
            "4  05/01/1941      0    5    21.5    -4.5\n"
          ],
          "name": "stdout"
        }
      ]
    },
    {
      "cell_type": "code",
      "metadata": {
        "colab": {
          "base_uri": "https://localhost:8080/"
        },
        "id": "v0dOFIPOVGE8",
        "outputId": "b14c7082-3649-4bfd-f06f-99473849545c"
      },
      "source": [
        "cols_list = ['Precip', 'Evap', 'TempMax', 'TempMin']\r\n",
        "for cols in cols_list:\r\n",
        "  df_work1[cols] = pd.to_numeric(df_work1[cols], errors='coerce')\r\n",
        "\r\n",
        "df_work1.info()"
      ],
      "execution_count": 38,
      "outputs": [
        {
          "output_type": "stream",
          "text": [
            "<class 'pandas.core.frame.DataFrame'>\n",
            "RangeIndex: 15527 entries, 0 to 15526\n",
            "Data columns (total 5 columns):\n",
            " #   Column   Non-Null Count  Dtype  \n",
            "---  ------   --------------  -----  \n",
            " 0   Fecha    15527 non-null  object \n",
            " 1   Precip   15464 non-null  float64\n",
            " 2   Evap     13129 non-null  float64\n",
            " 3   TempMax  15260 non-null  float64\n",
            " 4   TempMin  15260 non-null  float64\n",
            "dtypes: float64(4), object(1)\n",
            "memory usage: 606.6+ KB\n"
          ],
          "name": "stdout"
        }
      ]
    },
    {
      "cell_type": "code",
      "metadata": {
        "colab": {
          "base_uri": "https://localhost:8080/"
        },
        "id": "nrEFw7N9Vybg",
        "outputId": "dd181fa6-23de-4278-d327-fd2f180f96f1"
      },
      "source": [
        "df_work1.isnull().sum()"
      ],
      "execution_count": 39,
      "outputs": [
        {
          "output_type": "execute_result",
          "data": {
            "text/plain": [
              "Fecha         0\n",
              "Precip       63\n",
              "Evap       2398\n",
              "TempMax     267\n",
              "TempMin     267\n",
              "dtype: int64"
            ]
          },
          "metadata": {
            "tags": []
          },
          "execution_count": 39
        }
      ]
    },
    {
      "cell_type": "code",
      "metadata": {
        "colab": {
          "base_uri": "https://localhost:8080/"
        },
        "id": "vcLpQoQxWr56",
        "outputId": "78721646-23f9-40ed-b375-49d9a5850baf"
      },
      "source": [
        "print(df_work1.head())\r\n",
        "print(df_work1.tail())"
      ],
      "execution_count": 40,
      "outputs": [
        {
          "output_type": "stream",
          "text": [
            "        Fecha  Precip  Evap  TempMax  TempMin\n",
            "0  01/01/1941     0.0   3.3     19.5      3.5\n",
            "1  02/01/1941     0.0   3.8     21.5      2.5\n",
            "2  03/01/1941     0.0   5.8     23.5      5.5\n",
            "3  04/01/1941     0.0   5.7     19.0      7.5\n",
            "4  05/01/1941     0.0   5.0     21.5     -4.5\n",
            "            Fecha  Precip  Evap  TempMax  TempMin\n",
            "15522  27/12/2000     0.4   3.6     12.5      8.0\n",
            "15523  28/12/2000     1.0   1.9     11.0      5.0\n",
            "15524  29/12/2000     0.0   1.1     16.0      0.3\n",
            "15525  30/12/2000     0.0   3.5     19.0     -0.5\n",
            "15526  31/12/2000     0.0   4.5     20.0      0.0\n"
          ],
          "name": "stdout"
        }
      ]
    },
    {
      "cell_type": "code",
      "metadata": {
        "colab": {
          "base_uri": "https://localhost:8080/",
          "height": 288
        },
        "id": "w4BomfQRW1pg",
        "outputId": "9fdb8448-3dda-4c81-c0fd-1ae66f2e6e36"
      },
      "source": [
        "df_work1.describe().round(2)"
      ],
      "execution_count": null,
      "outputs": [
        {
          "output_type": "execute_result",
          "data": {
            "text/html": [
              "<div>\n",
              "<style scoped>\n",
              "    .dataframe tbody tr th:only-of-type {\n",
              "        vertical-align: middle;\n",
              "    }\n",
              "\n",
              "    .dataframe tbody tr th {\n",
              "        vertical-align: top;\n",
              "    }\n",
              "\n",
              "    .dataframe thead th {\n",
              "        text-align: right;\n",
              "    }\n",
              "</style>\n",
              "<table border=\"1\" class=\"dataframe\">\n",
              "  <thead>\n",
              "    <tr style=\"text-align: right;\">\n",
              "      <th></th>\n",
              "      <th>Precip</th>\n",
              "      <th>Evap</th>\n",
              "      <th>TempMax</th>\n",
              "      <th>TempMin</th>\n",
              "    </tr>\n",
              "  </thead>\n",
              "  <tbody>\n",
              "    <tr>\n",
              "      <th>count</th>\n",
              "      <td>15464.00</td>\n",
              "      <td>13129.00</td>\n",
              "      <td>15260.00</td>\n",
              "      <td>15260.00</td>\n",
              "    </tr>\n",
              "    <tr>\n",
              "      <th>mean</th>\n",
              "      <td>1.98</td>\n",
              "      <td>7.36</td>\n",
              "      <td>25.51</td>\n",
              "      <td>8.16</td>\n",
              "    </tr>\n",
              "    <tr>\n",
              "      <th>std</th>\n",
              "      <td>8.04</td>\n",
              "      <td>3.28</td>\n",
              "      <td>4.54</td>\n",
              "      <td>5.59</td>\n",
              "    </tr>\n",
              "    <tr>\n",
              "      <th>min</th>\n",
              "      <td>0.00</td>\n",
              "      <td>0.10</td>\n",
              "      <td>-4.00</td>\n",
              "      <td>-12.00</td>\n",
              "    </tr>\n",
              "    <tr>\n",
              "      <th>25%</th>\n",
              "      <td>0.00</td>\n",
              "      <td>5.00</td>\n",
              "      <td>23.00</td>\n",
              "      <td>4.00</td>\n",
              "    </tr>\n",
              "    <tr>\n",
              "      <th>50%</th>\n",
              "      <td>0.00</td>\n",
              "      <td>7.00</td>\n",
              "      <td>26.00</td>\n",
              "      <td>9.00</td>\n",
              "    </tr>\n",
              "    <tr>\n",
              "      <th>75%</th>\n",
              "      <td>0.00</td>\n",
              "      <td>9.50</td>\n",
              "      <td>28.50</td>\n",
              "      <td>13.00</td>\n",
              "    </tr>\n",
              "    <tr>\n",
              "      <th>max</th>\n",
              "      <td>108.50</td>\n",
              "      <td>18.00</td>\n",
              "      <td>39.50</td>\n",
              "      <td>22.00</td>\n",
              "    </tr>\n",
              "  </tbody>\n",
              "</table>\n",
              "</div>"
            ],
            "text/plain": [
              "         Precip      Evap   TempMax   TempMin\n",
              "count  15464.00  13129.00  15260.00  15260.00\n",
              "mean       1.98      7.36     25.51      8.16\n",
              "std        8.04      3.28      4.54      5.59\n",
              "min        0.00      0.10     -4.00    -12.00\n",
              "25%        0.00      5.00     23.00      4.00\n",
              "50%        0.00      7.00     26.00      9.00\n",
              "75%        0.00      9.50     28.50     13.00\n",
              "max      108.50     18.00     39.50     22.00"
            ]
          },
          "metadata": {
            "tags": []
          },
          "execution_count": 42
        }
      ]
    },
    {
      "cell_type": "code",
      "metadata": {
        "id": "EyTE7mjTgvFY",
        "colab": {
          "base_uri": "https://localhost:8080/"
        },
        "outputId": "00a761de-7b3f-46f6-9f5d-5f466153298f"
      },
      "source": [
        "#Se define un dataframe para la fecha\r\n",
        "df_work2 = df_work1.copy()\r\n",
        "df_work2['Fecha'].head()"
      ],
      "execution_count": 41,
      "outputs": [
        {
          "output_type": "execute_result",
          "data": {
            "text/plain": [
              "0    01/01/1941\n",
              "1    02/01/1941\n",
              "2    03/01/1941\n",
              "3    04/01/1941\n",
              "4    05/01/1941\n",
              "Name: Fecha, dtype: object"
            ]
          },
          "metadata": {
            "tags": []
          },
          "execution_count": 41
        }
      ]
    },
    {
      "cell_type": "code",
      "metadata": {
        "colab": {
          "base_uri": "https://localhost:8080/"
        },
        "id": "NvzplTBN52vp",
        "outputId": "8f7bfd0d-fb51-41b8-8da0-01ab4ad7e9f4"
      },
      "source": [
        "df_work2['Fecha']=pd.to_datetime(df_work2['Fecha'], dayfirst=True).copy()\r\n",
        "print(df_work1.head())"
      ],
      "execution_count": 42,
      "outputs": [
        {
          "output_type": "stream",
          "text": [
            "        Fecha  Precip  Evap  TempMax  TempMin\n",
            "0  01/01/1941     0.0   3.3     19.5      3.5\n",
            "1  02/01/1941     0.0   3.8     21.5      2.5\n",
            "2  03/01/1941     0.0   5.8     23.5      5.5\n",
            "3  04/01/1941     0.0   5.7     19.0      7.5\n",
            "4  05/01/1941     0.0   5.0     21.5     -4.5\n"
          ],
          "name": "stdout"
        }
      ]
    },
    {
      "cell_type": "code",
      "metadata": {
        "colab": {
          "base_uri": "https://localhost:8080/"
        },
        "id": "qZX_VPbi5-_I",
        "outputId": "7fd19ffe-2cd6-483e-8cf9-ca9548ccf4fc"
      },
      "source": [
        "df_work2.dtypes"
      ],
      "execution_count": 43,
      "outputs": [
        {
          "output_type": "execute_result",
          "data": {
            "text/plain": [
              "Fecha      datetime64[ns]\n",
              "Precip            float64\n",
              "Evap              float64\n",
              "TempMax           float64\n",
              "TempMin           float64\n",
              "dtype: object"
            ]
          },
          "metadata": {
            "tags": []
          },
          "execution_count": 43
        }
      ]
    },
    {
      "cell_type": "code",
      "metadata": {
        "colab": {
          "base_uri": "https://localhost:8080/"
        },
        "id": "hcnTxKmY5_D8",
        "outputId": "be5ed6b0-aee0-4a82-8cdb-51d90c9a7957"
      },
      "source": [
        "print(df_work2.head())\r\n",
        "print(df_work2.tail())"
      ],
      "execution_count": 44,
      "outputs": [
        {
          "output_type": "stream",
          "text": [
            "       Fecha  Precip  Evap  TempMax  TempMin\n",
            "0 1941-01-01     0.0   3.3     19.5      3.5\n",
            "1 1941-01-02     0.0   3.8     21.5      2.5\n",
            "2 1941-01-03     0.0   5.8     23.5      5.5\n",
            "3 1941-01-04     0.0   5.7     19.0      7.5\n",
            "4 1941-01-05     0.0   5.0     21.5     -4.5\n",
            "           Fecha  Precip  Evap  TempMax  TempMin\n",
            "15522 2000-12-27     0.4   3.6     12.5      8.0\n",
            "15523 2000-12-28     1.0   1.9     11.0      5.0\n",
            "15524 2000-12-29     0.0   1.1     16.0      0.3\n",
            "15525 2000-12-30     0.0   3.5     19.0     -0.5\n",
            "15526 2000-12-31     0.0   4.5     20.0      0.0\n"
          ],
          "name": "stdout"
        }
      ]
    },
    {
      "cell_type": "code",
      "metadata": {
        "colab": {
          "base_uri": "https://localhost:8080/"
        },
        "id": "DqKdvvu664Mh",
        "outputId": "1b868708-1b19-4462-ea4d-2558f36af3a9"
      },
      "source": [
        "df_work2.info()"
      ],
      "execution_count": 45,
      "outputs": [
        {
          "output_type": "stream",
          "text": [
            "<class 'pandas.core.frame.DataFrame'>\n",
            "RangeIndex: 15527 entries, 0 to 15526\n",
            "Data columns (total 5 columns):\n",
            " #   Column   Non-Null Count  Dtype         \n",
            "---  ------   --------------  -----         \n",
            " 0   Fecha    15527 non-null  datetime64[ns]\n",
            " 1   Precip   15464 non-null  float64       \n",
            " 2   Evap     13129 non-null  float64       \n",
            " 3   TempMax  15260 non-null  float64       \n",
            " 4   TempMin  15260 non-null  float64       \n",
            "dtypes: datetime64[ns](1), float64(4)\n",
            "memory usage: 606.6 KB\n"
          ],
          "name": "stdout"
        }
      ]
    }
  ]
}